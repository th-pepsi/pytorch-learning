{
 "cells": [
  {
   "cell_type": "code",
   "execution_count": 1,
   "id": "dfd6ba80-bf7f-497e-9356-dfa034b459e5",
   "metadata": {},
   "outputs": [],
   "source": [
    "import numpy as np"
   ]
  },
  {
   "cell_type": "code",
   "execution_count": 3,
   "id": "918e105a-a702-407f-b803-cd083a95e6cf",
   "metadata": {},
   "outputs": [
    {
     "name": "stdout",
     "output_type": "stream",
     "text": [
      "<class 'numpy.ndarray'> [3.14 2.17 0.   1.   2.  ]\n"
     ]
    }
   ],
   "source": [
    "lst1 = [3.14, 2.17, 0, 1, 2]\n",
    "nd1 = np.array(lst1)\n",
    "print(type(nd1),nd1)"
   ]
  },
  {
   "cell_type": "markdown",
   "id": "0b80e9ab-072a-4a53-82d8-445d67ca4ba2",
   "metadata": {},
   "source": [
    "##### random 生成随机数"
   ]
  },
  {
   "cell_type": "code",
   "execution_count": 9,
   "id": "b5befaf1-d399-4604-9c2b-851e5f622efd",
   "metadata": {},
   "outputs": [
    {
     "name": "stdout",
     "output_type": "stream",
     "text": [
      "[[0.9807642  0.68482974 0.4809319 ]\n",
      " [0.39211752 0.34317802 0.72904971]\n",
      " [0.43857224 0.0596779  0.39804426]] (3, 3)\n",
      "[[-1.0856306   0.99734545  0.2829785 ]\n",
      " [-1.50629471 -0.57860025  1.65143654]]\n",
      "[[-1.50629471 -0.57860025  1.65143654]\n",
      " [-1.0856306   0.99734545  0.2829785 ]]\n"
     ]
    }
   ],
   "source": [
    "nd2 = np.random.random([3,3])\n",
    "print(nd2, nd2.shape)\n",
    "\n",
    "np.random.seed(123)\n",
    "nd3 = np.random.randn(2,3)\n",
    "print(nd3)\n",
    "np.random.shuffle(nd3)\n",
    "print(nd3)"
   ]
  },
  {
   "cell_type": "markdown",
   "id": "4a3e2e07-5c65-4a1b-bba3-561cf1a5b4a1",
   "metadata": {},
   "source": [
    "##### 生成特定的矩阵"
   ]
  },
  {
   "cell_type": "code",
   "execution_count": 14,
   "id": "98c5fd08-95a7-4f2d-a228-6530c3e4cd97",
   "metadata": {},
   "outputs": [
    {
     "name": "stdout",
     "output_type": "stream",
     "text": [
      "[[0. 0. 0. 0.]\n",
      " [0. 0. 0. 0.]\n",
      " [0. 0. 0. 0.]]\n",
      "[[0. 0. 0. 0.]\n",
      " [0. 0. 0. 0.]\n",
      " [0. 0. 0. 0.]]\n",
      "[[1. 1. 1.]\n",
      " [1. 1. 1.]]\n",
      "[[1. 0. 0.]\n",
      " [0. 1. 0.]\n",
      " [0. 0. 1.]]\n",
      "[[1 0 0]\n",
      " [0 2 0]\n",
      " [0 0 3]]\n"
     ]
    }
   ],
   "source": [
    "nd4 = np.zeros((3,4))\n",
    "nd5 = np.zeros_like(nd4)\n",
    "nd6 = np.ones((2,3))\n",
    "nd7 = np.eye(3)\n",
    "nd8 = np.diag([1,2,3])\n",
    "\n",
    "print(nd4)\n",
    "print(nd5)\n",
    "print(nd6)\n",
    "print(nd7)\n",
    "print(nd8)"
   ]
  },
  {
   "cell_type": "markdown",
   "id": "ae8f3125-2b78-4060-a94f-24950882065b",
   "metadata": {},
   "source": [
    "##### 保存暂时的数据到本地文件"
   ]
  },
  {
   "cell_type": "code",
   "execution_count": 15,
   "id": "61a181a7-0ba2-4817-843c-81e49608bc21",
   "metadata": {},
   "outputs": [
    {
     "name": "stdout",
     "output_type": "stream",
     "text": [
      "[[0.41092437 0.5796943  0.13995076 0.40101756 0.62731701]\n",
      " [0.32415089 0.24475928 0.69475518 0.5939024  0.63179202]\n",
      " [0.44025718 0.08372648 0.71233018 0.42786349 0.2977805 ]\n",
      " [0.49208478 0.74029639 0.35772892 0.41720995 0.65472131]\n",
      " [0.37380143 0.23451288 0.98799529 0.76599595 0.77700444]]\n"
     ]
    }
   ],
   "source": [
    "nd9 = np.random.random([5,5])\n",
    "np.savetxt(X=nd9, fname='./test1.txt')\n",
    "nd10 = np.loadtxt('./test1.txt')\n",
    "print(nd10)"
   ]
  },
  {
   "cell_type": "markdown",
   "id": "a28bea71-1729-4b89-9375-441607c80435",
   "metadata": {},
   "source": [
    "#####  利用arange、linspace函数生成数组"
   ]
  },
  {
   "cell_type": "code",
   "execution_count": 32,
   "id": "ed46e578-792a-4e6b-a3ea-c06aa2c04f7c",
   "metadata": {},
   "outputs": [
    {
     "name": "stdout",
     "output_type": "stream",
     "text": [
      "[1 2 3 4 5 6 7 8 9]\n",
      "[0.1 0.2 0.3 0.4 0.5 0.6 0.7 0.8 0.9 1. ]\n"
     ]
    }
   ],
   "source": [
    "nd11 = np.arange(1,10)\n",
    "print(nd11)\n",
    "nd12 = np.linspace(0.1,1,10)\n",
    "print(nd12)"
   ]
  },
  {
   "cell_type": "markdown",
   "id": "7e714320-16e1-41e5-907a-c32206d0e742",
   "metadata": {},
   "source": [
    "##### 获取np元素"
   ]
  },
  {
   "cell_type": "code",
   "execution_count": 34,
   "id": "4cb22cf8-2bd9-4f8b-a423-d22465469be4",
   "metadata": {},
   "outputs": [],
   "source": [
    "from numpy import random as nr"
   ]
  },
  {
   "cell_type": "code",
   "execution_count": 43,
   "id": "c88e141e-c2af-4b6f-bc52-ffea8eeba5ae",
   "metadata": {},
   "outputs": [
    {
     "name": "stdout",
     "output_type": "stream",
     "text": [
      "[ 1.  2.  3.  4.  5.  6.  7.  8.  9. 10. 11. 12. 13. 14. 15. 16. 17. 18.\n",
      " 19. 20. 21. 22. 23. 24.]\n",
      "[[ 9.  1.  1.  5.]\n",
      " [24. 10.  2.  4.]\n",
      " [11.  3.  1.  6.]]\n"
     ]
    }
   ],
   "source": [
    "np.random.seed(2024)\n",
    "nd13 = np.arange(1,25,dtype=float)\n",
    "print(nd13)\n",
    "c1 = nr.choice(nd13,size=(3,4))\n",
    "print(c1)"
   ]
  },
  {
   "cell_type": "markdown",
   "id": "4ddf0133-7066-4c5e-9691-63671e3b415f",
   "metadata": {},
   "source": [
    "##### 相乘和点积"
   ]
  },
  {
   "cell_type": "code",
   "execution_count": 50,
   "id": "9d4fe798-8ddc-4a36-a381-a5c4d01b768a",
   "metadata": {},
   "outputs": [
    {
     "name": "stdout",
     "output_type": "stream",
     "text": [
      "[[ 2  0]\n",
      " [-3 16]]\n",
      "[[ 2.  4.]\n",
      " [-2.  8.]]\n",
      "[[ 2  0]\n",
      " [-3 16]]\n",
      "[[21 24 27]\n",
      " [47 54 61]]\n"
     ]
    }
   ],
   "source": [
    "A = np.array([[1,2], [-1,4]])\n",
    "B = np.array([[2,0],[3,4]])\n",
    "print(A*B)\n",
    "print(A * 2.0)\n",
    "print(np.multiply(A, B))\n",
    "\n",
    "x1 = np.array([[1,2], [3,4]])\n",
    "x2 = np.array([[5,6,7],[8,9,10]])\n",
    "x3 = np.dot(x1,x2)\n",
    "print(x3)"
   ]
  },
  {
   "cell_type": "markdown",
   "id": "e38baab7-87c1-46cf-b16d-805622965bdd",
   "metadata": {},
   "source": [
    "##### 数组变形"
   ]
  },
  {
   "cell_type": "code",
   "execution_count": 63,
   "id": "6ac5c68d-c508-4df2-a0d5-785a5394d5d8",
   "metadata": {},
   "outputs": [
    {
     "name": "stdout",
     "output_type": "stream",
     "text": [
      "[0 1 2 3 4 5 6 7 8 9]\n",
      "[[0 1 2 3 4]\n",
      " [5 6 7 8 9]]\n",
      "[[0 1]\n",
      " [2 3]\n",
      " [4 5]\n",
      " [6 7]\n",
      " [8 9]]\n",
      "[[0 1 2 3 4]\n",
      " [5 6 7 8 9]]\n",
      "[[0 5]\n",
      " [1 6]\n",
      " [2 7]\n",
      " [3 8]\n",
      " [4 9]]\n",
      "[0 1 2 3 4 5 6 7 8 9]\n",
      "[0 5 1 6 2 7 3 8 4 9]\n",
      "[[0 1 2 3 4]\n",
      " [5 6 7 8 9]]\n",
      "[0 1 2 3 4 5 6 7 8 9]\n",
      "(1, 10)\n",
      "(10,)\n"
     ]
    }
   ],
   "source": [
    "arr = np.arange(10)\n",
    "print(arr)\n",
    "print(arr.reshape(2,5))\n",
    "print(arr.reshape(5,-1))\n",
    "\n",
    "arr.resize(2,5)\n",
    "print(arr)\n",
    "\n",
    "print(arr.T)\n",
    "\n",
    "print(arr.ravel())\n",
    "print(arr.ravel('F'))\n",
    "\n",
    "print(arr)\n",
    "\n",
    "print(arr.flatten())\n",
    "\n",
    "arr.resize(1,10)\n",
    "print(arr.shape)\n",
    "print(arr.squeeze().shape)"
   ]
  },
  {
   "cell_type": "markdown",
   "id": "2d50ce21-5470-4046-9d7a-53d8c3e59e15",
   "metadata": {},
   "source": [
    "##### 合并数组"
   ]
  },
  {
   "cell_type": "code",
   "execution_count": 79,
   "id": "25796054-cf25-453e-a4df-c1e64fad6bdd",
   "metadata": {},
   "outputs": [
    {
     "name": "stdout",
     "output_type": "stream",
     "text": [
      "[1 2 3 4 5 6]\n",
      "[[0 1 2 0 1 2]\n",
      " [3 4 5 3 4 5]]\n",
      "[[0 1 2]\n",
      " [3 4 5]\n",
      " [0 1 2]\n",
      " [3 4 5]]\n",
      "[[0 1 2]\n",
      " [3 4 5]\n",
      " [7 8 9]]\n"
     ]
    }
   ],
   "source": [
    "a= np.array([1,2,3])\n",
    "b = np.array([4,5,6])\n",
    "print(np.append(a,b))\n",
    "\n",
    "a1 = np.arange(6).reshape(2,3)\n",
    "b1 = np.arange(6).reshape(2,3)\n",
    "print(np.append(a1,b1,axis=1))\n",
    "print(np.append(a1,b1,axis=0))\n",
    "\n",
    "b2 = np.array([[7,8,9]])\n",
    "print(np.concatenate((a1,b2), axis=0))\n",
    "\n"
   ]
  },
  {
   "cell_type": "markdown",
   "id": "2e7b6dda-8fdf-4a60-a8a4-886a8c52e576",
   "metadata": {},
   "source": [
    "##### numpy 批量处理\n",
    "\n",
    "1）得到数据集\n",
    "2）随机打乱数据\n",
    "3）定义批大小\n",
    "4）批处理数据集\n"
   ]
  },
  {
   "cell_type": "code",
   "execution_count": 85,
   "id": "df5ebc8e-7406-4929-8172-8637b6cef134",
   "metadata": {},
   "outputs": [
    {
     "name": "stdout",
     "output_type": "stream",
     "text": [
      "10000\n"
     ]
    }
   ],
   "source": [
    "data_train = np.random.randn(10000,2,3)\n",
    "print(len(data_train))\n",
    "\n",
    "# 打乱\n",
    "np.random.shuffle(data_train)\n",
    "batch_size = 100\n",
    "for i in range(0,len(data_train),batch_size):\n",
    "    x_batch_sum = np.sum(data_train[i:i+batch_size])"
   ]
  },
  {
   "cell_type": "markdown",
   "id": "90cd943d-4630-433e-b88a-86bf8e8e824e",
   "metadata": {},
   "source": [
    "##### numpy 内置函数"
   ]
  },
  {
   "cell_type": "code",
   "execution_count": 87,
   "id": "5ae3f8c1-1dec-4823-a656-ef4c293b3f00",
   "metadata": {},
   "outputs": [
    {
     "name": "stdout",
     "output_type": "stream",
     "text": [
      "[0.01505591 0.20119242 0.33375669 ... 0.53164634 0.10384656 0.60954045]\n",
      "250155.62792099643\n",
      "250155.62792098479\n"
     ]
    }
   ],
   "source": [
    "import time\n",
    "\n",
    "x1 = np.random.rand(1000000)\n",
    "x2 = np.random.rand(1000000)\n",
    "print(x1)\n",
    "tic = time.process_time()\n",
    "\n",
    "dot = 0\n",
    "for i in range(len(x1)):\n",
    "    dot+=x1[i]*x2[i]\n",
    "\n",
    "print(str(dot))\n",
    "print(np.dot(x1,x2))\n",
    "    \n"
   ]
  }
 ],
 "metadata": {
  "kernelspec": {
   "display_name": "Python 3 (ipykernel)",
   "language": "python",
   "name": "python3"
  },
  "language_info": {
   "codemirror_mode": {
    "name": "ipython",
    "version": 3
   },
   "file_extension": ".py",
   "mimetype": "text/x-python",
   "name": "python",
   "nbconvert_exporter": "python",
   "pygments_lexer": "ipython3",
   "version": "3.10.8"
  }
 },
 "nbformat": 4,
 "nbformat_minor": 5
}
