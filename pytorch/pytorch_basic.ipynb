{
 "cells": [
  {
   "cell_type": "code",
   "execution_count": 3,
   "id": "ddaa5e1f-7650-4e64-88cb-8a46c4d5fc49",
   "metadata": {},
   "outputs": [],
   "source": [
    "import torch"
   ]
  },
  {
   "cell_type": "code",
   "execution_count": 4,
   "id": "68e7e047-f08b-4238-92a8-c486513e7565",
   "metadata": {},
   "outputs": [
    {
     "name": "stdout",
     "output_type": "stream",
     "text": [
      "tensor([[0.6338, 0.8976, 0.9895],\n",
      "        [0.5531, 0.9686, 0.7872],\n",
      "        [0.6185, 0.6924, 0.7859],\n",
      "        [0.2135, 0.6696, 0.6612],\n",
      "        [0.5428, 0.6092, 0.6334]])\n",
      "tensor([4, 6])\n",
      "tensor([4, 6])\n"
     ]
    }
   ],
   "source": [
    "x = torch.rand(5,3)\n",
    "print(x)\n",
    "\n",
    "x1 = torch.tensor([1,2])\n",
    "y = torch.tensor([3,4])\n",
    "print(x1.add(y))\n",
    "x1.add_(y)\n",
    "print(x1)"
   ]
  },
  {
   "cell_type": "markdown",
   "id": "04b6c04f-76bb-4830-86e6-2009e80c4114",
   "metadata": {},
   "source": [
    "##### 创建tensor\n",
    "\n",
    "跟numpy类似"
   ]
  },
  {
   "cell_type": "code",
   "execution_count": 5,
   "id": "ccf8cdd0-a137-4e8c-a26c-0262b435978c",
   "metadata": {},
   "outputs": [
    {
     "name": "stdout",
     "output_type": "stream",
     "text": [
      "tensor([1., 2., 3., 4., 5., 6.])\n",
      "tensor([[1., 2., 3.],\n",
      "        [4., 5., 6.]])\n",
      "torch.Size([2, 3])\n",
      "tensor([7.0065e-45])\n"
     ]
    }
   ],
   "source": [
    "t1 = torch.Tensor([1,2,3,4,5,6])\n",
    "print(t1)\n",
    "\n",
    "t2 = torch.Tensor(2,3)\n",
    "print(t2)\n",
    "\n",
    "t = torch.Tensor([[1,2,3],[4,5,6]])\n",
    "print(t.size())\n",
    "\n",
    "t3 = torch.Tensor(1)\n",
    "print(t3)"
   ]
  },
  {
   "cell_type": "code",
   "execution_count": 6,
   "id": "a5c6225a-e512-4a7c-a119-60ea86ae35b2",
   "metadata": {},
   "outputs": [
    {
     "name": "stdout",
     "output_type": "stream",
     "text": [
      "torch.Size([2, 3]) 2\n"
     ]
    }
   ],
   "source": [
    "x = torch.randn(2,3)\n",
    "print(x.shape, x.dim())"
   ]
  },
  {
   "cell_type": "markdown",
   "id": "aaf92268-0300-4927-b8f9-17275c2aaa06",
   "metadata": {},
   "source": [
    "##### 索引操作"
   ]
  },
  {
   "cell_type": "code",
   "execution_count": 7,
   "id": "297927cf-1a5d-45aa-927a-9a6d543058ad",
   "metadata": {},
   "outputs": [
    {
     "name": "stdout",
     "output_type": "stream",
     "text": [
      "tensor([[-0.0404,  1.7260, -0.8140],\n",
      "        [ 1.3722,  0.5060, -0.4823]]) tensor(0.5060) tensor([1.7260, 1.3722, 0.5060]) tensor([[0, 0],\n",
      "        [0, 1],\n",
      "        [0, 2],\n",
      "        [1, 0],\n",
      "        [1, 1],\n",
      "        [1, 2]])\n"
     ]
    }
   ],
   "source": [
    "torch.manual_seed(2024)\n",
    "x  = torch.randn(2,3)\n",
    "print(x, x[1,1], torch.masked_select(x, x>0), torch.nonzero(x))"
   ]
  },
  {
   "cell_type": "markdown",
   "id": "a2520de2-bb27-4b87-b4f6-11c5c884fdc7",
   "metadata": {},
   "source": [
    "##### 标量反向传播"
   ]
  },
  {
   "cell_type": "code",
   "execution_count": 8,
   "id": "240aa0b2-9289-47a5-bcc9-b0ec4c7f24fb",
   "metadata": {},
   "outputs": [
    {
     "name": "stdout",
     "output_type": "stream",
     "text": [
      "x,w,b的requires_grad为False,True,True\n",
      "y,z的requires_grad为True,True\n",
      "True,False,None,<MulBackward0 object at 0x1204329b0>\n",
      "tensor([2.])\n"
     ]
    }
   ],
   "source": [
    "x = torch.Tensor([2])\n",
    "w = torch.randn(1,requires_grad=True)\n",
    "b = torch.randn(1,requires_grad=True)\n",
    "\n",
    "y = torch.mul(w,x)\n",
    "z = torch.add(y,b)\n",
    "print(f'x,w,b的requires_grad为{x.requires_grad},{w.requires_grad},{b.requires_grad}')\n",
    "print(f'y,z的requires_grad为{y.requires_grad},{z.requires_grad}')\n",
    "\n",
    "print(f'{x.is_leaf},{y.is_leaf},{x.grad_fn},{y.grad_fn}')\n",
    "\n",
    "z.backward()\n",
    "\n",
    "print(f'{w.grad}')"
   ]
  },
  {
   "cell_type": "markdown",
   "id": "c3e61a18-cc8d-4a7c-9c46-9fff3017ba7d",
   "metadata": {},
   "source": [
    "##### 非标量反向传播\n"
   ]
  },
  {
   "cell_type": "code",
   "execution_count": 9,
   "id": "73c33fb1-5bdf-4702-8785-93941d7cbbde",
   "metadata": {},
   "outputs": [
    {
     "name": "stdout",
     "output_type": "stream",
     "text": [
      "tensor([[2., 3.]], requires_grad=True) tensor([[13., 13.]], grad_fn=<CopySlices>)\n",
      "tensor([[12., 18.]])\n"
     ]
    }
   ],
   "source": [
    "x = torch.tensor([[2,3]], dtype = torch.float, requires_grad=True)\n",
    "j = torch.zeros(2,2)\n",
    "\n",
    "y = torch.zeros(1,2)\n",
    "\n",
    "y[0,0] = x[0,0] **2 + 3*x[0,1]\n",
    "y[0,1] = x[0,1] **2 + 2*x[0,0]\n",
    "\n",
    "print(x, y)\n",
    "\n",
    "y.backward(torch.Tensor([[2,2]]))\n",
    "print(x.grad)"
   ]
  },
  {
   "cell_type": "markdown",
   "id": "2064a1de-f93b-49b4-871e-b38bd6dced18",
   "metadata": {},
   "source": [
    "##### 基于表达式y=3x**2+2 构建机器学习"
   ]
  },
  {
   "cell_type": "code",
   "execution_count": 12,
   "id": "74801898-1b1d-47d9-937d-ded21100e314",
   "metadata": {},
   "outputs": [],
   "source": [
    "from matplotlib import pyplot as plt\n",
    "import numpy as np"
   ]
  },
  {
   "cell_type": "code",
   "execution_count": 19,
   "id": "7c04b990-a2be-458f-aaa1-20ce0e2450d8",
   "metadata": {},
   "outputs": [
    {
     "data": {
      "image/png": "[encoded data removed]",
      "text/plain": [
       "<Figure size 640x480 with 1 Axes>"
      ]
     },
     "metadata": {},
     "output_type": "display_data"
    }
   ],
   "source": [
    "np.random.seed(2024)\n",
    "x = np.linspace(-1,1,100).reshape(100,1)\n",
    "\n",
    "y = 3*np.power(x,2) +2 + 0.2*np.random.rand(x.size).reshape(100,1)\n",
    "plt.scatter(x,y)\n",
    "plt.show()"
   ]
  },
  {
   "cell_type": "code",
   "execution_count": 20,
   "id": "11515d9e-530e-48da-b632-47a04e82a476",
   "metadata": {},
   "outputs": [
    {
     "data": {
      "image/png": "[encoded data removed]",
      "text/plain": [
       "<Figure size 640x480 with 1 Axes>"
      ]
     },
     "metadata": {},
     "output_type": "display_data"
    },
    {
     "name": "stdout",
     "output_type": "stream",
     "text": [
      "[[2.98039022]] [[2.10940584]]\n"
     ]
    }
   ],
   "source": [
    "w1 = np.random.rand(1,1)\n",
    "b1 = np.random.rand(1,1)\n",
    "\n",
    "lr = 0.001\n",
    "for i in range(800):\n",
    "    y_pred = np.power(x,2)*w1+b1\n",
    "    loss = 0.5*(y_pred-y)**2\n",
    "    loss = loss.sum()\n",
    "    grad_w = np.sum((y_pred - y)*np.power(x,2))\n",
    "    grad_b = np.sum((y_pred - y))\n",
    "    w1 -= lr * grad_w\n",
    "    b1 -= lr * grad_b\n",
    "\n",
    "plt.plot(x,y_pred,'r-',label = 'predict')\n",
    "plt.scatter(x, y,color='blue',marker='o',label='true') # true data\n",
    "plt.xlim(-1,1)\n",
    "plt.ylim(2,6)\n",
    "plt.legend()\n",
    "plt.show()\n",
    "print(w1,b1)\n",
    "    "
   ]
  }
 ],
 "metadata": {
  "kernelspec": {
   "display_name": "Python 3 (ipykernel)",
   "language": "python",
   "name": "python3"
  },
  "language_info": {
   "codemirror_mode": {
    "name": "ipython",
    "version": 3
   },
   "file_extension": ".py",
   "mimetype": "text/x-python",
   "name": "python",
   "nbconvert_exporter": "python",
   "pygments_lexer": "ipython3",
   "version": "3.10.8"
  }
 },
 "nbformat": 4,
 "nbformat_minor": 5
}
