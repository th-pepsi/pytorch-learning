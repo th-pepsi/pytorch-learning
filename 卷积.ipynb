{
 "cells": [
  {
   "cell_type": "code",
   "execution_count": 1,
   "id": "725243ad-53e0-4127-890c-c89623a4bb8e",
   "metadata": {},
   "outputs": [],
   "source": [
    "import torch\n",
    "import torch.nn as nn"
   ]
  },
  {
   "cell_type": "code",
   "execution_count": 2,
   "id": "d8caeaf8-9190-48ee-a5c8-3850f649fab9",
   "metadata": {},
   "outputs": [
    {
     "data": {
      "text/plain": [
       "(Parameter containing:\n",
       " tensor([[[[-0.1733,  0.4964],\n",
       "           [-0.4237, -0.2133]]]], requires_grad=True),\n",
       " None)"
      ]
     },
     "execution_count": 2,
     "metadata": {},
     "output_type": "execute_result"
    }
   ],
   "source": [
    "input_feat = torch.tensor([[4, 1, 7, 5], [4, 4, 2, 5], [7, 7, 2, 4], [1, 0, 2, 4]], dtype=torch.float32).unsqueeze(0).unsqueeze(0)\n",
    "\n",
    "# 创建2*2卷积 通道数1 输出通道数1 padding为same\n",
    "conv2d = nn.Conv2d(1,1,(2,2),stride=1,padding='same',bias=False)\n",
    "conv2d.weight,conv2d.bias"
   ]
  },
  {
   "cell_type": "code",
   "execution_count": 3,
   "id": "4f31412c-007a-4286-97f8-ba41b2fc6511",
   "metadata": {},
   "outputs": [
    {
     "data": {
      "text/plain": [
       "(Parameter containing:\n",
       " tensor([[[[1., 0.],\n",
       "           [2., 1.]]]]),\n",
       " None)"
      ]
     },
     "execution_count": 3,
     "metadata": {},
     "output_type": "execute_result"
    }
   ],
   "source": [
    "# 卷积核要有四个维度(输入通道数，输出通道数，高，宽)\n",
    "kernels = torch.tensor([[[[1,0],[2,1]]]], dtype=torch.float32)\n",
    "conv2d.weight = nn.Parameter(kernels, requires_grad=False)\n",
    "conv2d.weight,conv2d.bias"
   ]
  },
  {
   "cell_type": "code",
   "execution_count": 4,
   "id": "25f29b58-2f36-4740-90c1-b7e55d18c745",
   "metadata": {},
   "outputs": [
    {
     "name": "stderr",
     "output_type": "stream",
     "text": [
      "/usr/local/lib/python3.10/site-packages/torch/nn/modules/conv.py:456: UserWarning: Using padding='same' with even kernel lengths and odd dilation may require a zero-padded copy of the input be created (Triggered internally at /Users/runner/work/pytorch/pytorch/pytorch/aten/src/ATen/native/Convolution.cpp:1041.)\n",
      "  return F.conv2d(input, weight, bias, self.stride,\n"
     ]
    },
    {
     "data": {
      "text/plain": [
       "tensor([[[[16., 11., 16., 15.],\n",
       "          [25., 20., 10., 13.],\n",
       "          [ 9.,  9., 10., 12.],\n",
       "          [ 1.,  0.,  2.,  4.]]]])"
      ]
     },
     "execution_count": 4,
     "metadata": {},
     "output_type": "execute_result"
    }
   ],
   "source": [
    "output = conv2d(input_feat)\n",
    "output"
   ]
  },
  {
   "cell_type": "markdown",
   "id": "734c7c42-1c59-4077-8ed6-94d833f77290",
   "metadata": {},
   "source": [
    "##### 深度可分离卷积\n",
    "\n",
    "由 Depthwise（DW）和 Pointwise（PW）这两部分卷积组合而成的。\n"
   ]
  },
  {
   "cell_type": "code",
   "execution_count": 8,
   "id": "4ff03991-fdcf-4343-b1a9-36f2eba2fea5",
   "metadata": {},
   "outputs": [
    {
     "data": {
      "text/plain": [
       "(tensor([[[[0.7369, 0.9071, 0.2719, 0.7429, 0.5879],\n",
       "           [0.1192, 0.5065, 0.5980, 0.2418, 0.8072],\n",
       "           [0.2732, 0.2270, 0.0095, 0.3047, 0.7819],\n",
       "           [0.1943, 0.5149, 0.8443, 1.0000, 0.2291],\n",
       "           [0.6862, 0.0278, 0.7733, 0.3798, 0.4050]],\n",
       " \n",
       "          [[0.6785, 0.1136, 0.8473, 0.6956, 0.5490],\n",
       "           [0.6566, 0.2725, 0.0878, 0.8746, 0.6738],\n",
       "           [0.4568, 0.5777, 0.3748, 0.4598, 0.8947],\n",
       "           [0.9329, 0.5418, 0.3544, 0.5471, 0.8430],\n",
       "           [0.7872, 0.1279, 0.3041, 0.3642, 0.1038]],\n",
       " \n",
       "          [[0.8302, 0.6458, 0.5462, 0.9407, 0.3037],\n",
       "           [0.6600, 0.8931, 0.1972, 0.9240, 0.3726],\n",
       "           [0.6341, 0.9038, 0.0424, 0.5048, 0.0781],\n",
       "           [0.1096, 0.0087, 0.2419, 0.5548, 0.0718],\n",
       "           [0.1962, 0.9521, 0.2223, 0.9961, 0.3262]]]]),\n",
       " torch.Size([1, 3, 5, 5]))"
      ]
     },
     "execution_count": 8,
     "metadata": {},
     "output_type": "execute_result"
    }
   ],
   "source": [
    "x = torch.rand((3,5,5)).unsqueeze(0)\n",
    "x,x.shape"
   ]
  },
  {
   "cell_type": "code",
   "execution_count": 16,
   "id": "141219ab-148a-434d-978f-b2915ccab42d",
   "metadata": {},
   "outputs": [],
   "source": [
    "# dw卷积实现\n",
    "in_channels_dw = x.shape[1]\n",
    "out_channels_dw = x.shape[1]\n",
    "\n",
    "kernel_size = 3\n",
    "stride = 1\n",
    "\n",
    "dw = nn.Conv2d(in_channels_dw,out_channels_dw, kernel_size, stride, groups=in_channels_dw)"
   ]
  },
  {
   "cell_type": "code",
   "execution_count": 17,
   "id": "a9367a45-1a3c-4e4e-9f3d-cf58cb7019a3",
   "metadata": {},
   "outputs": [
    {
     "data": {
      "text/plain": [
       "(torch.Size([1, 4, 3, 3]),\n",
       " tensor([[[[ 0.3413,  0.3161,  0.3254],\n",
       "           [ 0.3296,  0.2423,  0.1546],\n",
       "           [ 0.3787,  0.2530,  0.3206]],\n",
       " \n",
       "          [[ 0.0482,  0.0014,  0.0105],\n",
       "           [ 0.0224, -0.0665, -0.1549],\n",
       "           [ 0.0889, -0.0814,  0.0283]],\n",
       " \n",
       "          [[ 0.5765,  0.4159,  0.5091],\n",
       "           [ 0.4036,  0.5277,  0.7693],\n",
       "           [ 0.5647,  0.6013,  0.3638]],\n",
       " \n",
       "          [[ 0.4089,  0.1677,  0.2641],\n",
       "           [ 0.1844,  0.2763,  0.4889],\n",
       "           [ 0.4197,  0.2695,  0.1902]]]], grad_fn=<ConvolutionBackward0>))"
      ]
     },
     "execution_count": 17,
     "metadata": {},
     "output_type": "execute_result"
    }
   ],
   "source": [
    "# pw卷积实现\n",
    "in_channels_dw = out_channels_dw\n",
    "out_channels_dw = 4\n",
    "kernel_size_pw = 1\n",
    "pw = nn.Conv2d(in_channels_dw,out_channels_dw,kernel_size_pw,stride)\n",
    "out = pw(dw(x))\n",
    "out.shape,out"
   ]
  },
  {
   "cell_type": "code",
   "execution_count": null,
   "id": "01d8ec94-4c2e-411f-a55d-bf9f4c1f2fcc",
   "metadata": {},
   "outputs": [],
   "source": []
  },
  {
   "cell_type": "code",
   "execution_count": null,
   "id": "10d9f160-d50f-48b0-a94b-aea009f97830",
   "metadata": {},
   "outputs": [],
   "source": []
  },
  {
   "cell_type": "code",
   "execution_count": null,
   "id": "4d4e4e73-548e-4af9-87e0-b6a954103fe2",
   "metadata": {},
   "outputs": [],
   "source": []
  },
  {
   "cell_type": "code",
   "execution_count": null,
   "id": "350f65ce-b8f4-4449-b09c-ce821fd4cf60",
   "metadata": {},
   "outputs": [],
   "source": []
  },
  {
   "cell_type": "code",
   "execution_count": null,
   "id": "ff862bf7-581c-4cc8-a4a2-f4d627f7ace0",
   "metadata": {},
   "outputs": [],
   "source": []
  },
  {
   "cell_type": "code",
   "execution_count": null,
   "id": "b78d9b68-48e1-41c7-b4b8-2532cff28345",
   "metadata": {},
   "outputs": [],
   "source": []
  },
  {
   "cell_type": "code",
   "execution_count": null,
   "id": "f1dc2fbe-20a8-42a6-8506-5258149ae724",
   "metadata": {},
   "outputs": [],
   "source": []
  },
  {
   "cell_type": "code",
   "execution_count": null,
   "id": "fda0b7ec-bf97-4a06-bdd2-f67c5da0659b",
   "metadata": {},
   "outputs": [],
   "source": []
  }
 ],
 "metadata": {
  "kernelspec": {
   "display_name": "Python 3 (ipykernel)",
   "language": "python",
   "name": "python3"
  },
  "language_info": {
   "codemirror_mode": {
    "name": "ipython",
    "version": 3
   },
   "file_extension": ".py",
   "mimetype": "text/x-python",
   "name": "python",
   "nbconvert_exporter": "python",
   "pygments_lexer": "ipython3",
   "version": "3.10.8"
  }
 },
 "nbformat": 4,
 "nbformat_minor": 5
}
