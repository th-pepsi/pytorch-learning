{
 "cells": [
  {
   "cell_type": "code",
   "execution_count": 3,
   "id": "a7ee3652-1420-491d-8018-ac99e54d9b29",
   "metadata": {},
   "outputs": [
    {
     "name": "stdout",
     "output_type": "stream",
     "text": [
      "tensor([-0.5785,  0.4919])\n",
      "tensor([0.2553, 0.7447])\n"
     ]
    }
   ],
   "source": [
    "import torch\n",
    "import torch.nn as nn\n",
    "\n",
    "# 2个神经元的输出y的数值为\n",
    "y = torch.randn(2)\n",
    "print(y)\n",
    "m = nn.Softmax(dim=0)\n",
    "out = m(y)\n",
    "print(out)"
   ]
  },
  {
   "cell_type": "code",
   "execution_count": 5,
   "id": "06443eac-a914-4b9d-8973-d1ec389123bf",
   "metadata": {},
   "outputs": [
    {
     "name": "stdout",
     "output_type": "stream",
     "text": [
      "tensor([[-107.4843,  -10.6156]], grad_fn=<AddmmBackward0>)\n",
      "tensor([[8.5199e-43, 1.0000e+00]], grad_fn=<SoftmaxBackward0>)\n"
     ]
    }
   ],
   "source": [
    "x = torch.randint(0, 255, (1, 128*128), dtype=torch.float32)\n",
    "fc = nn.Linear(128*128, 2)\n",
    "y = fc(x)\n",
    "print(y)\n",
    "# 注意y的shape是(1, 2)\n",
    "output = nn.Softmax(dim=1)(y)\n",
    "print(output)"
   ]
  },
  {
   "cell_type": "code",
   "execution_count": null,
   "id": "5161ae93-bdb6-4b07-a7a1-776e49bf0652",
   "metadata": {},
   "outputs": [],
   "source": []
  },
  {
   "cell_type": "code",
   "execution_count": null,
   "id": "13872a7b-6d87-47f6-bca4-fb17925c8a65",
   "metadata": {},
   "outputs": [],
   "source": []
  },
  {
   "cell_type": "code",
   "execution_count": null,
   "id": "8ce7ab8c-ca8d-466a-aa42-1cec57ffc61a",
   "metadata": {},
   "outputs": [],
   "source": []
  },
  {
   "cell_type": "code",
   "execution_count": null,
   "id": "5ea38611-5ca7-48b7-a3ce-6b91ad6b892b",
   "metadata": {},
   "outputs": [],
   "source": []
  }
 ],
 "metadata": {
  "kernelspec": {
   "display_name": "Python 3 (ipykernel)",
   "language": "python",
   "name": "python3"
  },
  "language_info": {
   "codemirror_mode": {
    "name": "ipython",
    "version": 3
   },
   "file_extension": ".py",
   "mimetype": "text/x-python",
   "name": "python",
   "nbconvert_exporter": "python",
   "pygments_lexer": "ipython3",
   "version": "3.10.8"
  }
 },
 "nbformat": 4,
 "nbformat_minor": 5
}
