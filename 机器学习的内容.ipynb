{
 "cells": [
  {
   "cell_type": "code",
   "execution_count": null,
   "id": "4dd9f4a1-49f5-41f9-a5cc-00c142901912",
   "metadata": {},
   "outputs": [],
   "source": [
    "梯度向量的方向即为函数值增长最快的方向\n",
    "\n",
    "模型就是通过不断地减小损失函数值的方式来进行学习的。让损失函数最小化，通常就要采用梯度下降的方式，即：每一次给模型的权重进行更新的时候，都要按照梯度的反方向进行。\n",
    "\n",
    "模型通过梯度下降的方式，在梯度方向的反方向上不断减小损失函数值，从而进行学习。\n",
    "\n",
    "反向传播算法（Backpropagation）是目前训练神经网络最常用且最有效的算法\n",
    "\n",
    "反向传播的主要原理是：\n",
    "\n",
    "前向传播：数据从输入层经过隐藏层最后输出，其过程和之前讲过的前馈网络基本一致。\n",
    "计算误差并传播：计算模型输出结果和真实结果之间的误差，并将这种误差通过某种方式反向传播，即从输出层向隐藏层传递并最后到达输入层。\n",
    "迭代：在反向传播的过程中，根据误差不断地调整模型的参数值，并不断地迭代前面两个步骤，直到达到模型结束训练的条件。\n",
    "\n",
    "优化方法的目的就是找到能够使得 f(x) 的值达到最小值对应的权重。换句话说，优化过程就是找到一个状态，这个状态能够让模型的损失函数最小，而这个状态就是模型的权重。\n",
    "\n",
    "为了得到最小的损失函数，我们要用梯度下降的方法使其达到最小值\n",
    "\n",
    "模型之所以使用梯度下降，其实是通过优化方法不断的去修正模型和真实数据的拟合差距。\n",
    "\n",
    "常用的三种梯度方法包括批量、随机和小批量，一般来说我们更多采用小批量梯度下降。\n",
    "\n",
    "最后我们通过一个抽象的框架，汇总了训练一个模型所需要的几个关键内容，如损失函数、优化函数等，这部分内容是深度学习最关键的过程，建议你重点关注"
   ]
  },
  {
   "cell_type": "code",
   "execution_count": null,
   "id": "bffec5a4-f917-4dea-8df3-a0a5f9bb3b4d",
   "metadata": {},
   "outputs": [],
   "source": [
    "我们先设置好模型、损失函数和优化函数。然后针对每一批（batch）数据，求得输出结果，接着计算损失函数值，再把这个值进行反向传播，并利用优化函数进行优化。"
   ]
  },
  {
   "cell_type": "code",
   "execution_count": null,
   "id": "586fd020-33c8-4919-9ea8-659be94da998",
   "metadata": {},
   "outputs": [],
   "source": [
    "机器学习的步骤\n",
    "\n",
    "数据处理：主要包括数据清理、数据预处理、数据增强等。总之，就是构建让模型使用的训练集与验证集\n",
    "模型训练：确定网络结构，确定损失函数与设置优化方法。\n",
    "模型评估：使用各种评估指标来评估模型的好坏\n",
    "\n",
    "\n",
    "模型训练的步骤：\n",
    "\n",
    "模型结构设计：例如，机器学习中回归算法、SVM 等，深度学习中的 VGG、ResNet、SENet 等各种网络结构，再或者你自己设计的自定义模型结构。\n",
    "给定损失函数：损失函数衡量的是当前模型预测结果与真实标签之间的差距。\n",
    "给定优化方法：与损失函数搭配，更新模型中的参数\n",
    "\n",
    "\n",
    "模型训练的本质就是确定网络结构、设定损失函数与优化方法"
   ]
  },
  {
   "cell_type": "code",
   "execution_count": null,
   "id": "976b99d8-c98c-4b48-9622-189b3ffc463a",
   "metadata": {},
   "outputs": [],
   "source": []
  },
  {
   "cell_type": "code",
   "execution_count": null,
   "id": "c26b3687-a26c-4395-8a3a-144ccbb059e4",
   "metadata": {},
   "outputs": [],
   "source": []
  },
  {
   "cell_type": "code",
   "execution_count": null,
   "id": "a19ee152-54fe-4e9c-82bb-7de34ccb05c0",
   "metadata": {},
   "outputs": [],
   "source": []
  },
  {
   "cell_type": "code",
   "execution_count": null,
   "id": "3ce9017d-3290-453a-a3b7-9c4371207d92",
   "metadata": {},
   "outputs": [],
   "source": []
  },
  {
   "cell_type": "code",
   "execution_count": null,
   "id": "5de789a4-3af2-421a-9e7a-b680ae8540c6",
   "metadata": {},
   "outputs": [],
   "source": []
  }
 ],
 "metadata": {
  "kernelspec": {
   "display_name": "Python 3 (ipykernel)",
   "language": "python",
   "name": "python3"
  },
  "language_info": {
   "codemirror_mode": {
    "name": "ipython",
    "version": 3
   },
   "file_extension": ".py",
   "mimetype": "text/x-python",
   "name": "python",
   "nbconvert_exporter": "python",
   "pygments_lexer": "ipython3",
   "version": "3.10.8"
  }
 },
 "nbformat": 4,
 "nbformat_minor": 5
}
