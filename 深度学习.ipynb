{
 "cells": [
  {
   "cell_type": "markdown",
   "id": "f039a477-6c07-4508-a9f4-983402e43950",
   "metadata": {},
   "source": [
    "##### NumPy 数组\n",
    "\n",
    "1.Python 中的列表可以动态地改变，而 NumPy 数组是不可以的，它在创建时就有固定大小了。改变 Numpy 数组长度的话，会新创建一个新的数组并且删除原数组。\n",
    "2.NumPy 数组中的数据类型必须是一样的，而列表中的元素可以是多样的。\n",
    "3.NumPy 针对 NumPy 数组一系列的运算进行了优化，使得其速度特别快，并且相对于 Python 中的列表，同等操作只需使用更少的内存。\n",
    "\n",
    "把一个列表传入到 np.array() 或 np.asarray() 中创建数组，np.array() 属于深拷贝，np.asarray() 则是浅拷贝\n",
    "np.ones() 与 np.zeros()\n",
    "np.arange()\n",
    "np.linspace()\n",
    "\n",
    "ndim --> 维度的个数\n",
    "shape --> 维度\n",
    "size --> 元素的个数\n",
    "dtype --> 数据类型（int8、int16、int32、float32、float64），astype() 改变数组的数据类型\n",
    "\n",
    "数组的轴\n",
    "\n"
   ]
  },
  {
   "cell_type": "code",
   "execution_count": 6,
   "id": "76aaf941-944b-48f5-ad1f-a3ea2a84ac33",
   "metadata": {},
   "outputs": [
    {
     "name": "stdout",
     "output_type": "stream",
     "text": [
      "[[2 2 6]\n",
      " [4 7 8]\n",
      " [6 9 3]\n",
      " [5 8 1]]\n"
     ]
    },
    {
     "data": {
      "text/plain": [
       "array([10, 19, 18, 14])"
      ]
     },
     "execution_count": 6,
     "metadata": {},
     "output_type": "execute_result"
    }
   ],
   "source": [
    "import numpy as np\n",
    "interest_score = np.random.randint(10, size=(4, 3))\n",
    "print(interest_score)\n",
    "np.sum(interest_score,axis=0)\n",
    "np.sum(interest_score,axis=1)"
   ]
  },
  {
   "cell_type": "code",
   "execution_count": 9,
   "id": "adfbc38d-c723-461a-8072-82da0cd6dcf6",
   "metadata": {},
   "outputs": [
    {
     "data": {
      "text/plain": [
       "array([[0, 0, 0, ..., 1, 1, 0],\n",
       "       [1, 1, 0, ..., 1, 1, 1],\n",
       "       [0, 0, 0, ..., 0, 0, 1],\n",
       "       ...,\n",
       "       [1, 1, 1, ..., 1, 0, 0],\n",
       "       [0, 0, 1, ..., 0, 1, 1],\n",
       "       [0, 1, 1, ..., 1, 1, 0]])"
      ]
     },
     "execution_count": 9,
     "metadata": {},
     "output_type": "execute_result"
    }
   ],
   "source": [
    "scores = np.random.rand(256, 256, 2)\n",
    "scores[:,:,1] = 1 - scores[:,:,0]\n",
    "mask = np.zeros(scores.shape)\n",
    "mask\n",
    "\n",
    "result = np.argmax(scores, axis=2)\n",
    "result\n"
   ]
  },
  {
   "cell_type": "markdown",
   "id": "dca607b6-12c4-4560-8122-32f899a6bc22",
   "metadata": {},
   "source": [
    "##### Tensor\n",
    "\n",
    "创建：torch.tensor(data, dtype=None, device=None,requires_grad=False)\n",
    "    requires_grad 如果是训练过程就要设置为 true，目的是方便求导、更新参数。而到了验证或者测试过程，我们的目的是检查当前模型的泛化能力，那就要把 requires_grad 设置成 Fasle，避免这个参数根据 loss 自动更新。\n",
    "\n",
    "tensor的转换\n",
    "a = torch.tensor(1)\n",
    "b = a.item()\n",
    "\n",
    "b = torch.tensor([1, 2, 3])\n",
    "c = b.numpy().tolist()\n",
    "\n",
    "\n",
    "\n"
   ]
  },
  {
   "cell_type": "code",
   "execution_count": 11,
   "id": "ece3b85f-e338-4b99-976a-596d7bcf6484",
   "metadata": {},
   "outputs": [
    {
     "data": {
      "text/plain": [
       "tensor([[0., 0.],\n",
       "        [0., 0.],\n",
       "        [0., 0.]])"
      ]
     },
     "execution_count": 11,
     "metadata": {},
     "output_type": "execute_result"
    }
   ],
   "source": [
    "import torch\n",
    "\n",
    "t1 = torch.zeros((3,2),dtype=None)\n",
    "t1"
   ]
  },
  {
   "cell_type": "code",
   "execution_count": 12,
   "id": "b0e2c39c-e8df-4a05-b1e6-80642cbe5ce2",
   "metadata": {},
   "outputs": [
    {
     "data": {
      "text/plain": [
       "1"
      ]
     },
     "execution_count": 12,
     "metadata": {},
     "output_type": "execute_result"
    }
   ],
   "source": [
    "a = torch.tensor(1)\n",
    "b = a.item()\n",
    "b"
   ]
  },
  {
   "cell_type": "code",
   "execution_count": 13,
   "id": "fb460fc2-f47e-41a6-b693-c2a681344def",
   "metadata": {},
   "outputs": [
    {
     "data": {
      "text/plain": [
       "tensor([[[0., 0., 0., 0.],\n",
       "         [0., 0., 0., 0.],\n",
       "         [0., 0., 0., 0.]],\n",
       "\n",
       "        [[0., 0., 0., 0.],\n",
       "         [0., 0., 0., 0.],\n",
       "         [0., 0., 0., 0.]]])"
      ]
     },
     "execution_count": 13,
     "metadata": {},
     "output_type": "execute_result"
    }
   ],
   "source": [
    "a = torch.zeros(2,3,4)\n",
    "a"
   ]
  },
  {
   "cell_type": "code",
   "execution_count": 17,
   "id": "a8c1b589-1664-40f7-904f-8fe186520b50",
   "metadata": {},
   "outputs": [
    {
     "data": {
      "text/plain": [
       "torch.Size([2, 1, 3])"
      ]
     },
     "execution_count": 17,
     "metadata": {},
     "output_type": "execute_result"
    }
   ],
   "source": [
    "x = torch.rand(2,1,3)\n",
    "x.shape\n",
    "y = x.squeeze()\n",
    "y.shape"
   ]
  },
  {
   "cell_type": "code",
   "execution_count": 18,
   "id": "4061f21d-ce4a-4f3e-b5ee-72177764f971",
   "metadata": {},
   "outputs": [
    {
     "data": {
      "text/plain": [
       "(tensor([1, 2, 3, 4, 5]), tensor([ 6,  7,  8,  9, 10]))"
      ]
     },
     "execution_count": 18,
     "metadata": {},
     "output_type": "execute_result"
    }
   ],
   "source": [
    "A=torch.tensor([1,2,3,4,5,6,7,8,9,10])\n",
    "B = torch.chunk(A, 2, 0)\n",
    "B"
   ]
  },
  {
   "cell_type": "code",
   "execution_count": 19,
   "id": "2c5090b8-768e-4855-ba01-5e752f5e23d0",
   "metadata": {},
   "outputs": [],
   "source": [
    "from torch.utils.data import Dataset\n",
    "\n",
    "class MyDataset(Dataset):\n",
    "    def __init__(self, data_tensor, target_tensor):\n",
    "        self.data_tensor = data_tensor\n",
    "        self.target_tensor = target_tensor\n",
    "\n",
    "    def __len__(self):\n",
    "        return self.data_tensor.size(0)\n",
    "\n",
    "    def __getitem__(self, index):\n",
    "        return self.data_tensor[index], self.target_tensor[index]\n"
   ]
  },
  {
   "cell_type": "code",
   "execution_count": 26,
   "id": "b7dcada0-f903-47c5-b182-9c80280def85",
   "metadata": {},
   "outputs": [
    {
     "data": {
      "text/plain": [
       "tensor([[ 0.6865,  0.4576, -2.0241],\n",
       "        [ 0.9022, -0.6191, -0.7715],\n",
       "        [-1.4074, -0.4854,  0.2196],\n",
       "        [-0.5351,  1.3807,  0.2421],\n",
       "        [-0.1482,  1.1564, -1.1256],\n",
       "        [ 0.9680,  0.3446,  0.0744],\n",
       "        [ 0.1771,  0.8424, -1.5460],\n",
       "        [ 0.6768, -0.5446,  1.3475],\n",
       "        [-1.6586,  0.7589, -2.1427],\n",
       "        [ 1.6918,  0.0735,  0.5188]])"
      ]
     },
     "execution_count": 26,
     "metadata": {},
     "output_type": "execute_result"
    }
   ],
   "source": [
    "data_tensor = torch.randn(10,3)\n",
    "target_tensor = torch.randint(2, (10,))\n",
    "my_dataset = MyDataset(data_tensor,target_tensor)\n",
    "data_tensor"
   ]
  },
  {
   "cell_type": "code",
   "execution_count": 27,
   "id": "cbad2741-02b2-4234-b83e-2fd8f7e655b3",
   "metadata": {},
   "outputs": [
    {
     "name": "stdout",
     "output_type": "stream",
     "text": [
      "tensor([[ 1.6918,  0.0735,  0.5188],\n",
      "        [-0.1482,  1.1564, -1.1256]]) tensor([1, 0])\n",
      "tensor([[ 0.6768, -0.5446,  1.3475],\n",
      "        [-1.6586,  0.7589, -2.1427]]) tensor([0, 0])\n",
      "tensor([[-0.5351,  1.3807,  0.2421],\n",
      "        [ 0.9022, -0.6191, -0.7715]]) tensor([0, 0])\n",
      "tensor([[ 0.9680,  0.3446,  0.0744],\n",
      "        [ 0.6865,  0.4576, -2.0241]]) tensor([1, 1])\n",
      "tensor([[ 0.1771,  0.8424, -1.5460],\n",
      "        [-1.4074, -0.4854,  0.2196]]) tensor([0, 1])\n"
     ]
    }
   ],
   "source": [
    "from torch.utils.data import DataLoader\n",
    "\n",
    "tensor_dataloader = DataLoader(dataset=my_dataset, batch_size=2, shuffle=True, num_workers=0)\n",
    "\n",
    "for data, target in tensor_dataloader:\n",
    "    print(data, target)"
   ]
  },
  {
   "cell_type": "code",
   "execution_count": null,
   "id": "043c81e7-5b64-43e8-8fa5-b261eb6d2545",
   "metadata": {},
   "outputs": [],
   "source": []
  },
  {
   "cell_type": "code",
   "execution_count": null,
   "id": "d6169a7b-55ba-4e6b-8da7-13e35ca7be30",
   "metadata": {},
   "outputs": [],
   "source": []
  },
  {
   "cell_type": "code",
   "execution_count": null,
   "id": "7be2df7b-14f2-4bf8-a685-f6d7241fe4b1",
   "metadata": {},
   "outputs": [],
   "source": []
  },
  {
   "cell_type": "code",
   "execution_count": null,
   "id": "20e085bb-e714-4955-ad4a-b12b368c4405",
   "metadata": {},
   "outputs": [],
   "source": []
  },
  {
   "cell_type": "code",
   "execution_count": null,
   "id": "c11eebbb-1f39-41e4-aaad-57cfdc5de0f4",
   "metadata": {},
   "outputs": [],
   "source": []
  },
  {
   "cell_type": "code",
   "execution_count": null,
   "id": "2a748c6e-0a7b-4bd5-9ea8-3c530dc92241",
   "metadata": {},
   "outputs": [],
   "source": []
  },
  {
   "cell_type": "code",
   "execution_count": null,
   "id": "f6906f28-2b80-4738-9e4e-52409e83a453",
   "metadata": {},
   "outputs": [],
   "source": []
  }
 ],
 "metadata": {
  "kernelspec": {
   "display_name": "Python 3 (ipykernel)",
   "language": "python",
   "name": "python3"
  },
  "language_info": {
   "codemirror_mode": {
    "name": "ipython",
    "version": 3
   },
   "file_extension": ".py",
   "mimetype": "text/x-python",
   "name": "python",
   "nbconvert_exporter": "python",
   "pygments_lexer": "ipython3",
   "version": "3.10.8"
  }
 },
 "nbformat": 4,
 "nbformat_minor": 5
}
